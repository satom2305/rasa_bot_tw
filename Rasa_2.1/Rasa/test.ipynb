{
 "cells": [
  {
   "cell_type": "code",
   "execution_count": 7,
   "metadata": {},
   "outputs": [],
   "source": [
    "f = open('./actions/fact/fact.txt', encoding='utf-8').read()"
   ]
  },
  {
   "cell_type": "code",
   "execution_count": 8,
   "metadata": {},
   "outputs": [],
   "source": [
    "f = f.split('$')"
   ]
  },
  {
   "cell_type": "code",
   "execution_count": 9,
   "metadata": {},
   "outputs": [],
   "source": [
    "x = ['hoa hồng', 'hoa sen', 'hoa đào', 'hoa mai', 'hoa cúc', 'hoa sứ', 'hoa hướng dương', 'hoa ly', 'hoa phượng', 'hoa huệ', 'hoa cẩm tú cầu', 'hoa linh lan'\n",
    "    , 'hoa anh đào', 'hoa tigon', 'hoa tulip', 'hoa thiên điểu', 'hoa bỉ ngạn', 'hoa mẫu đơn', 'hoa tử đằng', 'lan hồ điệp', 'lan phi điệp', 'lan hoàng dương', 'lan hạc vỹ'\n",
    "     , 'lan cẩm cù', 'lan đùi gà', 'lan ngọc điểm', 'lan vảy rồng', 'lan hải yến', 'lan hoàng nhạn', 'hoa lay ơn', 'hoa nhài', 'hoa tường vi', 'hoa cẩm chướng ', 'hoa chấm bi', 'hoa đồng tiền', 'hoa mười giờ', 'hoa dâm bụt', 'hoa thược dược', 'hoa mận', 'hoa sưa', 'hoa sữa', 'hoa sấu', 'hoa gạo', 'hoa loa kèn', 'hoa bằng lăng', 'hoa xoan']"
   ]
  },
  {
   "cell_type": "code",
   "execution_count": 10,
   "metadata": {},
   "outputs": [],
   "source": [
    "kn = {}\n",
    "for a, b in zip(f, x):\n",
    "    a = a.strip('\\n')\n",
    "    kn[b] = a\n",
    "import json\n",
    "json.dump(kn,fp=open('./actions/fact.json', 'w', encoding='utf-8'), ensure_ascii=False)"
   ]
  },
  {
   "cell_type": "code",
   "execution_count": 11,
   "metadata": {},
   "outputs": [],
   "source": [
    "data = json.load(open('./actions/fact.json', encoding='utf-8'))"
   ]
  },
  {
   "cell_type": "code",
   "execution_count": 12,
   "metadata": {},
   "outputs": [
    {
     "data": {
      "text/plain": "['Mai vàng là loài thực vật có hoa thuộc chi Mai (Ochna), họ Mai (Ochnaceae). Cây này được trồng làm cảnh phổ biến ở miền Nam Việt Nam vào dịp Tết Nguyên Đán.Mai vàng được lưu dân người Việt Nam thuần hóa từ cây dại khi họ đi khai khẩn miền Nam nước này. Hoa mai vàng có năm cánh và thường nở trùng với dịp Tết Nguyên Đán như hoa đào ở miền Bắc nên người ta đã đem về trang trí vào dịp Tết. Dần dà về sau, hoa mai trở thành một hình ảnh đặc trưng khi nhắc đến ngày tết của miền Nam Việt Nam.Loài mai vàng mọc hoang dã trong rừng có từ 5 đến 9 cánh, song đôi khi lên đến 12 - 18 cánh, gọi là \"mai núi\". Ở Tây Nguyên, mai núi phân bố khá phổ biến. Ngoài ra, còn có loài mai rừng với thân màu nâu, lá to xanh bóng, có răng cưa ở viền lá, hoa vàng, mọc thành chùm theo dạng chủy nên được gọi là \"mai chủy\". Một loài mai vàng khác mọc ở triền cát, ở những khu rừng ven biển được gọi là \"mai động\". Loài mai này có thân suông, tròn, hoa trổ chi chít trên cành. Nếu chúng có hoa với năm cánh nhỏ thì gọi là \"mai sẻ\". Mai động hay mai sẻ phân bố rải rác ở các tỉnh miền Trung từ Quảng Bình, Quảng Trị trở vào miền nam, cho tới tận Đồng Nai và Tây Ninh.... Xét về góc độ sai hoa, ngoài mai sẻ còn phải nhắc đến \"mai chùm gởi\". Loài này có thân cứng, trên cành mọc lên những khối u, chung quanh khối u đâm ra rất nhiều tược non và từ đó nụ hoa mọc ra khá dày, hoa nở san sát vào nhau, tạo thành chùm. Người ta gọi loài này là \"mai tỳ bà\" hay \"mai vương\". Hiện nay ở vùng Nam Bộ có rất nhiều giống mai.Thông thường, mai vàng có mùi hương rất khó nhận ra. Song, ở Việt Nam lại có loài mai vàng năm cánh hương thơm đậm hơn hẳn những loài mai khác nên được gọi là \"mai hương\". Nó còn tên khác là \"mai thơm\" (thường được trồng ở Bến Tre) tại miền Nam hay \"mai ngự\" (mọc khá nhiều ở Huế) ngoài miền Trung\". Riêng loài mai có cánh hoa lớn hơn kích cỡ bình thường được gọi là \"mai châu\" (đọc trại từ \"trâu\" thành \"châu\"). Loài có nụ hoa nhỏ, cánh dài và nhọn, được gọi là \"mai cánh nhọn\".',\n 'Cây mai vàng là cây thân gỗ, nên thân cứng cáp, cành hơi giòn nhưng vẫn có thể uốn để tạo dáng cây. Thân cây xù xì và nhiều cành nhiều nhánh. Tán cây có lá thưa, nếu để phát triển tự do thì cây mọc từ hạt có thể cao tối đa tới 20 – 30m. Gốc cây khá to, và bộ rễ cây mai vàng lồi lõm có độ đâm sâu tới 2 – 3m.',\n 'lá hoa mai là loại là chơn, có màu xanh đậm.',\n 'Rễ cây mai vàng lớn, rễ cọc, có thể đâm sâu vào đất để hút chất dinh dưỡng vì vậy trong điều kiện khô cằn hay đất ít chất dinh dưỡng cũng cũng có thể sống được.',\n 'Hoa mai có màu vàng. Có nhiều loại có loại 5-9 cánh nhưng cũng có loại 9-12 cánh.',\n 'Khí hậu miền Nam Việt Nam rất hợp với hoa mai',\n 'Thời tiết nóng ẩm mưa nhiều sẽ là điều kiện thích hợp để cây mai phát triển tốt.',\n 'Giống như đào cây mai có khá nhiều mứa giá từ vài trăm ngàn cho đến cả tywf đồng.',\n 'Cũng với hoa đào, hoa mai cũng ra hoa vào khẳng tháng 1 âm lịch hằng năm.',\n 'Mai vàng thích hợp với khí hậu nóng ẩm, nhiệt độ tốt nhất là từ 250C – 300C. Khác với hoa đào, những vùng có nhiệt độ thấp dưới 100C thì cây khó sống, nếu trồng được thì sức sống rất yếu.Là loại cây ưa nắng, ưa ẩm thì trồng vào khoảng thời gian từ cuối tháng 10 Âm lịch (AL) – tháng 2 Âm lịch (AL) là tốt nhất.',\n 'Tốt nhất nên sử dụng các loại phân hữu cơ để bón cho cây. Tùy vào kích cỡ cây  mai của bạn như thế nào mà điều chỉnh lượng phân bón ít hay nhiều.Bón lót: Lượng phân bón sẽ chiếm khoảng 1/10 lượng đất trồng trong hố hay trong chậu, trộn đều với đất trước khi trồng.Bón thúc: Sau trồng khoảng 10 – 15 ngày cây bắt đầu ra rễ mới thì bón thúc phân, bón khoảng 50 - 60 gram cho cây cỡ nhỏ (cao khoảng 40 – 50 cm). Cứ cách 20 – 30 ngày là có thể bón thúc lần nữa, nếu cây mai của bạn to thì nên tăng lượng phân bón lên và khoảng cách giữa mỗi lần bón cách nhau xa hơn.Lưu ý: Tuyệt đối không nên bón sát gốc, mà phải rải xung quanh và tưới đẫm nước. Không nên xới xáo đất khi bón, vì nếu làm đứt rễ cây mai sẽ dễ bị nhiễm trùng.',\n 'Cây mai với thân nâu và màu hoa vàng rực rỡ hoàn toàn là những màu tương sinh với người mệnh Kim.',\n 'Khi chọn mai, bạn nên chọn cây mai dàn tỏa cành hợp lý, hài hòa. Cành mọc vươn dài, ngay thẳng, không gãy gập xuống dưới, không cong quẹo, càng lên phía trên, ngọn càng ngắn và nhỏ dần. Cây mai tốt thì cành nhánh sẽ được sắp xếp đều, chắc khỏe, đồng thời tán có chứa những chồi lá non xanh mới nhú.',\n 'Loài mai vàng mọc hoang dã trong rừng có từ 5 đến 9 cánh, song đôi khi lên đến 12 - 18 cánh, gọi là \"mai núi\".',\n 'Thân cây xù xì và nhiều cành nhiều nhánh. Tán cây có lá thưa, nếu để phát triển tự do thì cây mọc từ hạt có thể cao tối đa tới 20 – 30m.',\n 'lá hoa mai là loại là chơn, có màu xanh đậm.đường kính khi trưởng thành từ 3-4cm.',\n 'Bộ rễ cây mai vàng lồi lõm có độ đâm sâu tới 2 – 3m. Thường có màu nâu.',\n 'Loại phân bón qua đất thích hợp cho mai là NPK 20-20-15+TE hoặc NPK 16-12-8-11+TE. Lượng bón khoảng 20 -50 gr/gốc/lần bón, cách khoảng 1-2 tháng bón 1 lần. Khi mai đã cho hoa ổn định: Hàng năm cần bón bổ sung phân hữu cơ từ 5-10 kg/gốc.',\n 'Hoa mai. Theo dược học cổ truyền, hoa mai vị ngọt hơi đắng, tính ấm, không độc, có công dụng giải thử sinh tân, khai vị tán uất, hóa đàm, thường được dùng để chữa các chứng bệnh như sốt cao phiền khát, tức ngực, ho, hầu họng sưng đau, bỏng, lao hạch, chán ăn, chóng mặt...',\n 'Tên gọi của loài hoa này cũng chính là biểu tượng của sự mai mắn, tốt đẹp, một sự khởi đầu hoàn hảo và thịnh vượng cho một năm mới. Hoa mai còn có ý nghĩa xua đuổi những điều xấu xa, không tốt đẹp và cầu cho một năm mới luôn được bình an, hạnh phúc và phát đạt.']"
     },
     "execution_count": 12,
     "metadata": {},
     "output_type": "execute_result"
    }
   ],
   "source": [
    "data['hoa mai'].split('\\n')"
   ]
  }
 ],
 "metadata": {
  "kernelspec": {
   "display_name": "Python 3 (ipykernel)",
   "language": "python",
   "name": "python3"
  },
  "language_info": {
   "codemirror_mode": {
    "name": "ipython",
    "version": 3
   },
   "file_extension": ".py",
   "mimetype": "text/x-python",
   "name": "python",
   "nbconvert_exporter": "python",
   "pygments_lexer": "ipython3",
   "version": "3.9.12"
  },
  "vscode": {
   "interpreter": {
    "hash": "161bec1c333fad971ec5050c0dd5bb670739b52dfe5b2a114841944b1b7e47e3"
   }
  }
 },
 "nbformat": 4,
 "nbformat_minor": 2
}
